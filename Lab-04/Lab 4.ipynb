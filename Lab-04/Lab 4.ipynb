{
 "cells": [
  {
   "cell_type": "code",
   "execution_count": 1,
   "metadata": {},
   "outputs": [],
   "source": [
    "### 4C16 Lab 4 - Feedforward Neural Nets for Image Classification."
   ]
  },
  {
   "cell_type": "code",
   "execution_count": 2,
   "metadata": {},
   "outputs": [],
   "source": [
    "# Import the necessary modules\n",
    "\n",
    "import tensorflow.keras as keras\n",
    "from tensorflow.keras import datasets\n",
    "from tensorflow.keras.layers import Dense, Flatten, Dropout, Activation\n",
    "from tensorflow.keras.regularizers import l2\n",
    "\n",
    "from tensorflow.keras.models import model_from_json\n",
    "\n",
    "from IPython.display import clear_output\n",
    "\n",
    "import numpy as np\n",
    "import matplotlib.pyplot as plt\n",
    "%matplotlib inline\n",
    "from matplotlib.ticker import MaxNLocator\n",
    "\n",
    "import pickle\n",
    "import sklearn as skl\n",
    "\n",
    "from sklearn import datasets, linear_model\n",
    "from sklearn.model_selection import cross_val_score"
   ]
  },
  {
   "cell_type": "code",
   "execution_count": 3,
   "metadata": {},
   "outputs": [],
   "source": [
    "# Define some useful functions\n",
    "class PlotLossAccuracy(keras.callbacks.Callback):\n",
    "    def on_train_begin(self, logs={}):\n",
    "        self.i = 0\n",
    "        self.x = []\n",
    "        self.acc = []\n",
    "        self.losses = []\n",
    "        self.val_losses = []\n",
    "        self.val_acc = []\n",
    "        self.logs = []\n",
    "\n",
    "    def on_epoch_end(self, epoch, logs={}):\n",
    "        \n",
    "        self.logs.append(logs)\n",
    "        self.x.append(int(self.i))\n",
    "        self.losses.append(logs.get('loss'))\n",
    "        self.val_losses.append(logs.get('val_loss'))\n",
    "        self.acc.append(logs.get('acc'))\n",
    "        self.val_acc.append(logs.get('val_acc'))\n",
    "        \n",
    "        self.i += 1\n",
    "        \n",
    "        clear_output(wait=True)\n",
    "        plt.figure(figsize=(16, 6))\n",
    "        plt.plot([1, 2])\n",
    "        plt.subplot(121) \n",
    "        plt.plot(self.x, self.losses, label=\"train loss\")\n",
    "        plt.plot(self.x, self.val_losses, label=\"validation loss\")\n",
    "        plt.gca().xaxis.set_major_locator(MaxNLocator(integer=True))\n",
    "        plt.ylabel('loss')\n",
    "        plt.xlabel('epoch')\n",
    "        plt.title('Model Loss')\n",
    "        plt.legend()\n",
    "        plt.subplot(122)         \n",
    "        plt.plot(self.x, self.acc, label=\"training accuracy\")\n",
    "        plt.plot(self.x, self.val_acc, label=\"validation accuracy\")\n",
    "        plt.legend()\n",
    "        plt.ylabel('accuracy')\n",
    "        plt.xlabel('epoch')\n",
    "        plt.title('Model Accuracy')\n",
    "        plt.gca().xaxis.set_major_locator(MaxNLocator(integer=True))\n",
    "        plt.show();\n",
    "        \n",
    "def save_model_to_disk():    \n",
    "    # save model and weights (don't change the filenames)\n",
    "    model_json = model.to_json()\n",
    "    with open(\"model.json\", \"w\") as json_file:\n",
    "        json_file.write(model_json)\n",
    "    # serialize weights to HDF5\n",
    "    model.save_weights(\"model.h5\")\n",
    "    print(\"Saved model to model.json and weights to model.h5\")"
   ]
  },
  {
   "cell_type": "code",
   "execution_count": 4,
   "metadata": {},
   "outputs": [
    {
     "name": "stdout",
     "output_type": "stream",
     "text": [
      "loading the dataset...\n"
     ]
    },
    {
     "ename": "FileNotFoundError",
     "evalue": "[Errno 2] No such file or directory: '/home/tcd/colalid/workspace/data/cifar10-dataset.pkl'",
     "output_type": "error",
     "traceback": [
      "\u001b[0;31m---------------------------------------------------------------------------\u001b[0m",
      "\u001b[0;31mFileNotFoundError\u001b[0m                         Traceback (most recent call last)",
      "\u001b[0;32m<ipython-input-4-0babee2585f7>\u001b[0m in \u001b[0;36m<module>\u001b[0;34m\u001b[0m\n\u001b[1;32m      1\u001b[0m \u001b[0mprint\u001b[0m\u001b[0;34m(\u001b[0m\u001b[0;34m'loading the dataset...'\u001b[0m\u001b[0;34m)\u001b[0m\u001b[0;34m\u001b[0m\u001b[0m\n\u001b[1;32m      2\u001b[0m \u001b[0;34m\u001b[0m\u001b[0m\n\u001b[0;32m----> 3\u001b[0;31m \u001b[0mpkl_file\u001b[0m \u001b[0;34m=\u001b[0m \u001b[0mopen\u001b[0m\u001b[0;34m(\u001b[0m\u001b[0;34m'/home/tcd/colalid/workspace/data/cifar10-dataset.pkl'\u001b[0m\u001b[0;34m,\u001b[0m \u001b[0;34m'rb'\u001b[0m\u001b[0;34m)\u001b[0m\u001b[0;34m\u001b[0m\u001b[0m\n\u001b[0m\u001b[1;32m      4\u001b[0m \u001b[0mdataset\u001b[0m \u001b[0;34m=\u001b[0m \u001b[0mpickle\u001b[0m\u001b[0;34m.\u001b[0m\u001b[0mload\u001b[0m\u001b[0;34m(\u001b[0m\u001b[0mpkl_file\u001b[0m\u001b[0;34m)\u001b[0m\u001b[0;34m\u001b[0m\u001b[0m\n\u001b[1;32m      5\u001b[0m \u001b[0;34m\u001b[0m\u001b[0m\n",
      "\u001b[0;31mFileNotFoundError\u001b[0m: [Errno 2] No such file or directory: '/home/tcd/colalid/workspace/data/cifar10-dataset.pkl'"
     ]
    }
   ],
   "source": [
    "print('loading the dataset...')\n",
    "\n",
    "pkl_file = open('/home/tcd/colalid/workspace/data/cifar10-dataset.pkl', 'rb') \n",
    "dataset = pickle.load(pkl_file)\n",
    "\n",
    "print('loaded.')\n",
    "\n",
    "print('let\\'s look at some of the pictures and their ground truth labels:')\n",
    "\n",
    "plt.figure(figsize=(12,12))\n",
    "plt.plot([3, 3])\n",
    "\n",
    "X = dataset['X'].astype('float32')/255\n",
    "Y = dataset['Y'].astype('float32')\n",
    "Y = keras.utils.to_categorical(Y)\n",
    "\n",
    "for i in range(0,9):\n",
    "    # pictures are 32x32x3 (width=32, height=32, 3 colour channels)\n",
    "    pic = X[i]\n",
    "\n",
    "    # Y[i] returns an array of zeros and with Y[i][classid] = 1\n",
    "    # for instance  Y[i] = [ 0 0 0 0 0 1 0 0 0 0] => classid=5 \n",
    "    #          and  Y[i] = [ 1 0 0 0 0 0 0 0 0 0] => classid=0\n",
    "    # we can get the classid by using the argmax function on the vector Y[i]\n",
    "    classid = Y[i].argmax(-1)\n",
    "\n",
    "    # getting back the name of the label for that classid\n",
    "    classname = dataset['labels'][classid]\n",
    "    plt.subplot(3,3,i+1)\n",
    "    plt.imshow(pic)\n",
    "    plt.title('label: {}'.format(classname))\n"
   ]
  },
  {
   "cell_type": "code",
   "execution_count": null,
   "metadata": {
    "scrolled": true
   },
   "outputs": [],
   "source": [
    "# Download the dataset\n",
    "!curl --create-dirs -o /home/tcd/colalid/workspace/data/cifar10-dataset.pkl http://mindfreeze.ml/~mindfreeze/cifar10-dataset.pkl\n"
   ]
  },
  {
   "cell_type": "code",
   "execution_count": 12,
   "metadata": {},
   "outputs": [
    {
     "ename": "NameError",
     "evalue": "name 'X' is not defined",
     "output_type": "error",
     "traceback": [
      "\u001b[0;31m---------------------------------------------------------------------------\u001b[0m",
      "\u001b[0;31mNameError\u001b[0m                                 Traceback (most recent call last)",
      "\u001b[0;32m<ipython-input-12-1509e6c90c00>\u001b[0m in \u001b[0;36m<module>\u001b[0;34m\u001b[0m\n\u001b[1;32m      1\u001b[0m \u001b[0;31m# let's split data between validation set and training set\u001b[0m\u001b[0;34m\u001b[0m\u001b[0;34m\u001b[0m\u001b[0m\n\u001b[1;32m      2\u001b[0m \u001b[0;34m\u001b[0m\u001b[0m\n\u001b[0;32m----> 3\u001b[0;31m \u001b[0mX_train\u001b[0m\u001b[0;34m,\u001b[0m \u001b[0mX_validation\u001b[0m\u001b[0;34m,\u001b[0m \u001b[0mY_train\u001b[0m\u001b[0;34m,\u001b[0m \u001b[0mY_validation\u001b[0m \u001b[0;34m=\u001b[0m \u001b[0mskl\u001b[0m\u001b[0;34m.\u001b[0m\u001b[0mmodel_selection\u001b[0m\u001b[0;34m.\u001b[0m\u001b[0mtrain_test_split\u001b[0m\u001b[0;34m(\u001b[0m\u001b[0mX\u001b[0m\u001b[0;34m,\u001b[0m \u001b[0mY\u001b[0m\u001b[0;34m,\u001b[0m \u001b[0mtest_size\u001b[0m\u001b[0;34m=\u001b[0m\u001b[0;36m.1\u001b[0m\u001b[0;34m,\u001b[0m \u001b[0mrandom_state\u001b[0m\u001b[0;34m=\u001b[0m\u001b[0;36m0\u001b[0m\u001b[0;34m)\u001b[0m\u001b[0;34m\u001b[0m\u001b[0m\n\u001b[0m",
      "\u001b[0;31mNameError\u001b[0m: name 'X' is not defined"
     ]
    }
   ],
   "source": [
    "# let's split data between validation set and training set\n",
    "\n",
    "X_train, X_validation, Y_train, Y_validation = skl.model_selection.train_test_split(X, Y, test_size=.1, random_state=0)"
   ]
  },
  {
   "cell_type": "code",
   "execution_count": 6,
   "metadata": {
    "scrolled": true
   },
   "outputs": [
    {
     "name": "stdout",
     "output_type": "stream",
     "text": [
      "_________________________________________________________________\n",
      "Layer (type)                 Output Shape              Param #   \n",
      "=================================================================\n",
      "input_1 (InputLayer)         (None, 32, 32, 3)         0         \n",
      "_________________________________________________________________\n",
      "flatten (Flatten)            (None, 3072)              0         \n",
      "_________________________________________________________________\n",
      "dropout (Dropout)            (None, 3072)              0         \n",
      "_________________________________________________________________\n",
      "dense (Dense)                (None, 384)               1180032   \n",
      "_________________________________________________________________\n",
      "dropout_1 (Dropout)          (None, 384)               0         \n",
      "_________________________________________________________________\n",
      "dense_1 (Dense)              (None, 640)               246400    \n",
      "_________________________________________________________________\n",
      "dropout_2 (Dropout)          (None, 640)               0         \n",
      "_________________________________________________________________\n",
      "dense_2 (Dense)              (None, 768)               492288    \n",
      "_________________________________________________________________\n",
      "dense_3 (Dense)              (None, 10)                7690      \n",
      "=================================================================\n",
      "Total params: 1,926,410\n",
      "Trainable params: 1,926,410\n",
      "Non-trainable params: 0\n",
      "_________________________________________________________________\n"
     ]
    }
   ],
   "source": [
    "# the data structure is a tensor, ie. it is a multidimensional array\n",
    "# each layer instance is callable on a tensor, and returns a tensor\n",
    "\n",
    "# The model below contains 2 hidden layers with 30 nodes each. \n",
    "# The activation functions for these 2 layers is the ReLU\n",
    "# The network ends with a 10 nodes layer with softmax activation\n",
    "# The first 2 hidden layers transform the original features into \n",
    "# a new feature vector of size 30.\n",
    "# The last layer essentially does the classification using multonomial regression\n",
    "# based on these new features. \n",
    "\n",
    "inputs = keras.layers.Input(shape=(32, 32, 3))\n",
    "x = Flatten()(inputs)\n",
    "# x = Dense(450, activation='relu')(x)\n",
    "# x = Dense(310, activation='relu')(x)\n",
    "# x = Dense(250, activation='relu')(x)\n",
    "# x = Dense(120, activation='relu')(x)\n",
    "# x = Dense(90, activation='relu')(x)\n",
    "# x = Dense(40, activation='relu')(x)\n",
    "x = Dropout(0.2)(x)\n",
    "x = Dense(384, activation='relu')(x)\n",
    "x = Dropout(0.2)(x)\n",
    "x = Dense(640, activation='relu')(x)\n",
    "x = Dropout(0.2)(x)\n",
    "x = Dense(768, activation='relu')(x)\n",
    "\n",
    "\n",
    "# x = Dense(30, activation='relu')(x)\n",
    "# x = Dense(30, activation='relu')(x)\n",
    "\n",
    "\n",
    "predictions = Dense(10, activation='softmax')(x)\n",
    "\n",
    "# we create the model \n",
    "model = keras.models.Model(inputs=inputs, outputs=predictions)\n",
    "opt = keras.optimizers.SGD(lr=0.01, decay=1e-6, momentum=0.9, nesterov=True)\n",
    "\n",
    "# setup the optimisation strategy\n",
    "model.compile(optimizer=opt,\n",
    "              loss='categorical_crossentropy',\n",
    "              metrics=['accuracy'])\n",
    "\n",
    "\n",
    "model.summary()\n",
    "\n",
    "if (model.count_params() > 10000000):    \n",
    "    raise(\"Your model is unecessarily complex, scale down!\")\n"
   ]
  },
  {
   "cell_type": "code",
   "execution_count": 10,
   "metadata": {},
   "outputs": [
    {
     "ename": "NameError",
     "evalue": "name 'X_train' is not defined",
     "output_type": "error",
     "traceback": [
      "\u001b[0;31m---------------------------------------------------------------------------\u001b[0m",
      "\u001b[0;31mNameError\u001b[0m                                 Traceback (most recent call last)",
      "\u001b[0;32m<ipython-input-10-45c5ff5699d0>\u001b[0m in \u001b[0;36m<module>\u001b[0;34m\u001b[0m\n\u001b[1;32m      3\u001b[0m \u001b[0;34m\u001b[0m\u001b[0m\n\u001b[1;32m      4\u001b[0m \u001b[0;31m# and train\u001b[0m\u001b[0;34m\u001b[0m\u001b[0;34m\u001b[0m\u001b[0m\n\u001b[0;32m----> 5\u001b[0;31m model.fit(X_train, Y_train,\n\u001b[0m\u001b[1;32m      6\u001b[0m           \u001b[0mbatch_size\u001b[0m\u001b[0;34m=\u001b[0m\u001b[0;36m256\u001b[0m\u001b[0;34m,\u001b[0m \u001b[0mepochs\u001b[0m\u001b[0;34m=\u001b[0m\u001b[0;36m90\u001b[0m\u001b[0;34m,\u001b[0m\u001b[0;34m\u001b[0m\u001b[0m\n\u001b[1;32m      7\u001b[0m           \u001b[0mvalidation_data\u001b[0m\u001b[0;34m=\u001b[0m\u001b[0;34m(\u001b[0m\u001b[0mX_validation\u001b[0m\u001b[0;34m,\u001b[0m \u001b[0mY_validation\u001b[0m\u001b[0;34m)\u001b[0m\u001b[0;34m,\u001b[0m\u001b[0;34m\u001b[0m\u001b[0m\n",
      "\u001b[0;31mNameError\u001b[0m: name 'X_train' is not defined"
     ]
    }
   ],
   "source": [
    "# we create a callback function to plot our loss function and accuracy\n",
    "pltCallBack = PlotLossAccuracy()\n",
    "\n",
    "# and train\n",
    "model.fit(X_train, Y_train,\n",
    "          batch_size=256, epochs=90, \n",
    "          validation_data=(X_validation, Y_validation), \n",
    "          callbacks=[pltCallBack])\n"
   ]
  },
  {
   "cell_type": "code",
   "execution_count": 11,
   "metadata": {},
   "outputs": [
    {
     "name": "stdout",
     "output_type": "stream",
     "text": [
      "Saved model to model.json and weights to model.h5\n"
     ]
    }
   ],
   "source": [
    "# write model to model.json and weights to model.h5 for submission\n",
    "\n",
    "save_model_to_disk()"
   ]
  },
  {
   "cell_type": "code",
   "execution_count": null,
   "metadata": {},
   "outputs": [],
   "source": [
    "# In the terminal, add these files to git and submit the lab\n",
    "# Do the following: \n",
    "#  git add lab-04/model.json\n",
    "#  git add lab-04/model.h5\n",
    "#  git commit -m \"Added NN model.\"\n",
    "#  git push\n",
    "#  submit-lab 4"
   ]
  },
  {
   "cell_type": "code",
   "execution_count": null,
   "metadata": {},
   "outputs": [],
   "source": [
    "# Question 1: design a network only using Dense layers and achieve 50% accuracy on the server's test set\n",
    "#\n",
    "#  Do 'git commit -a -m \"model update\"' followed by 'submit-lab 4' to check your solution.\n",
    "#\n",
    "# Question 2: design a network using Dense layers and achieve 55% accuracy on the server's test set\n",
    "#\n",
    "# You may want to test the following:\n",
    "#\n",
    "# Change the architecture: \n",
    "#    for instance you may want to add layers, \n",
    "#    change the number of units per layer, \n",
    "#    change the activation functions\n",
    "#\n",
    "#    !!! now, don't go mad, we know you can get 55% accuracy with only 3 Dense layers.\n",
    "#\n",
    "# Always check on your accuray and loss graphs that that you are not overfitting. \n",
    "#\n",
    "# Remember that you can help avoiding overfitting using \n",
    "#   - Dropout [https://keras.io/layers/core/#dropout]\n",
    "#   - Regularisers (eg. L2, L1) [https://keras.io/regularizers/]\n",
    "#\n",
    "# Optimiser. You may get faster convergence using different optimiser that rmsprop (but rmsprop is not bad)\n",
    "#\n",
    "# Learning Rate. You can tune it.\n",
    "##\n",
    "# Also note that Deeper networks will require longer training times.\n",
    "#\n",
    "# Good luck!\n",
    "#\n",
    "#\n",
    "# F.A.Q.\n",
    "#\n",
    "#   I reached 51% on my validation set, but the submission didn't pass, how come? \n",
    "#     > the test set on the server is different from your validation set\n",
    "#   can I use convolutional layers? \n",
    "#     > No.\n",
    "#\n",
    "\n",
    "\n"
   ]
  },
  {
   "cell_type": "code",
   "execution_count": null,
   "metadata": {},
   "outputs": [],
   "source": []
  }
 ],
 "metadata": {
  "kernelspec": {
   "display_name": "Python 3",
   "language": "python",
   "name": "python3"
  },
  "language_info": {
   "codemirror_mode": {
    "name": "ipython",
    "version": 3
   },
   "file_extension": ".py",
   "mimetype": "text/x-python",
   "name": "python",
   "nbconvert_exporter": "python",
   "pygments_lexer": "ipython3",
   "version": "3.6.6"
  }
 },
 "nbformat": 4,
 "nbformat_minor": 2
}
